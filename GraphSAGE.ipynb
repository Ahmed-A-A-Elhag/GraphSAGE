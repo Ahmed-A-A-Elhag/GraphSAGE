{
  "nbformat": 4,
  "nbformat_minor": 0,
  "metadata": {
    "colab": {
      "name": "GraphSAGE.ipynb",
      "provenance": [],
      "authorship_tag": "ABX9TyMp7ziWBMd4MVcpoj/9/Uex",
      "include_colab_link": true
    },
    "kernelspec": {
      "display_name": "Python 3",
      "name": "python3"
    },
    "language_info": {
      "name": "python"
    }
  },
  "cells": [
    {
      "cell_type": "markdown",
      "metadata": {
        "id": "view-in-github",
        "colab_type": "text"
      },
      "source": [
        "<a href=\"https://colab.research.google.com/github/Ahmed-A-A-Elhag/GraphSAGE/blob/main/GraphSAGE.ipynb\" target=\"_parent\"><img src=\"https://colab.research.google.com/assets/colab-badge.svg\" alt=\"Open In Colab\"/></a>"
      ]
    },
    {
      "cell_type": "code",
      "metadata": {
        "id": "d5twBuFmySYR",
        "colab": {
          "base_uri": "https://localhost:8080/"
        },
        "outputId": "2b83156c-4050-4c24-db29-750f77b1aa23"
      },
      "source": [
        "!pip install -q torch-scatter -f https://pytorch-geometric.com/whl/torch-1.9.0+cu102.html\n",
        "!pip install -q torch-sparse -f https://pytorch-geometric.com/whl/torch-1.9.0+cu102.html\n",
        "!pip install -q torch-geometric"
      ],
      "execution_count": null,
      "outputs": [
        {
          "output_type": "stream",
          "text": [
            "\u001b[K     |████████████████████████████████| 3.0 MB 6.4 MB/s \n",
            "\u001b[K     |████████████████████████████████| 1.6 MB 7.2 MB/s \n",
            "\u001b[K     |████████████████████████████████| 222 kB 8.1 MB/s \n",
            "\u001b[K     |████████████████████████████████| 376 kB 43.2 MB/s \n",
            "\u001b[K     |████████████████████████████████| 45 kB 3.4 MB/s \n",
            "\u001b[?25h  Building wheel for torch-geometric (setup.py) ... \u001b[?25l\u001b[?25hdone\n"
          ],
          "name": "stdout"
        }
      ]
    },
    {
      "cell_type": "code",
      "metadata": {
        "id": "p1Z1sEyREyCW"
      },
      "source": [
        "import torch\n",
        "import torch.nn as nn\n",
        "import torch.optim as optim\n",
        "import torch.nn.functional as F\n",
        "import numpy as np\n",
        "import random\n",
        "import math\n",
        "\n",
        "import torch_geometric\n",
        "from torch_geometric.utils import to_dense_adj\n"
      ],
      "execution_count": null,
      "outputs": []
    },
    {
      "cell_type": "code",
      "metadata": {
        "id": "sN5RB4yNF2yY"
      },
      "source": [
        "seed = 150\n",
        "np.random.seed(seed)\n",
        "torch.manual_seed(seed)\n",
        "if torch.cuda.is_available():\n",
        "    torch.cuda.manual_seed(seed)"
      ],
      "execution_count": null,
      "outputs": []
    },
    {
      "cell_type": "code",
      "metadata": {
        "id": "OcDUAndukGoN"
      },
      "source": [
        "device = torch.device('cuda' if torch.cuda.is_available() else 'cpu')"
      ],
      "execution_count": null,
      "outputs": []
    },
    {
      "cell_type": "code",
      "metadata": {
        "colab": {
          "base_uri": "https://localhost:8080/"
        },
        "id": "zTR0X-0ahZEY",
        "outputId": "e4967b98-20fb-4878-cad6-55d1f42b72ee"
      },
      "source": [
        "device"
      ],
      "execution_count": null,
      "outputs": [
        {
          "output_type": "execute_result",
          "data": {
            "text/plain": [
              "device(type='cpu')"
            ]
          },
          "metadata": {},
          "execution_count": 6
        }
      ]
    },
    {
      "cell_type": "code",
      "metadata": {
        "id": "ulPhNSl4aLFA"
      },
      "source": [
        "def train(model, data, num_epochs, use_edge_index=False):\n",
        "    if not use_edge_index:\n",
        "\n",
        "        # Create the adjacency matrix\n",
        "        adj = to_dense_adj(data.edge_index)[0]\n",
        "\n",
        "    else:\n",
        "\n",
        "        # Directly use edge_index, ignore this branch for now\n",
        "        adj = data.edge_index\n",
        "        \n",
        "    model.to(device)\n",
        "    data.to(device)\n",
        "    # Set up the optimizer\n",
        "    \n",
        "    optimizer = optim.Adam(model.parameters(), lr=0.01, weight_decay=5e-4)\n",
        "\n",
        "    # A utility function to compute the accuracy\n",
        "    def get_acc(outs, y, mask):\n",
        "        return (outs[mask].argmax(dim=1) == y[mask]).sum().float() / mask.sum()\n",
        "\n",
        "    best_acc_val = -1\n",
        "    for epoch in range(num_epochs):\n",
        "\n",
        "        # Zero grads -> forward pass -> compute loss -> backprop\n",
        "        \n",
        "        # train mode\n",
        "        model.train()\n",
        "\n",
        "        optimizer.zero_grad()\n",
        "        outs = model(data.x.to(device), adj.to(device))\n",
        "\n",
        "        # null_loss \n",
        "\n",
        "        loss = torch.nn.functional.nll_loss(outs[data.train_mask], data.y[data.train_mask])\n",
        "        loss.backward()\n",
        "        optimizer.step()\n",
        "\n",
        "        # Compute accuracies, print only if this is the best result so far\n",
        "\n",
        "        # evaluation mode\n",
        "        model.eval()\n",
        "\n",
        "        # data.x = the features of the dataset\n",
        "\n",
        "        outs = model(data.x, adj)\n",
        "\n",
        "        # validation accuracy \n",
        "        acc_val = get_acc(outs, data.y, data.val_mask)\n",
        "\n",
        "        # test accuracy \n",
        "        acc_test = get_acc(outs, data.y, data.test_mask)\n",
        "\n",
        "        # print the accuracy if it’s incresed\n",
        "        if acc_val > best_acc_val:\n",
        "            best_acc_val = acc_val\n",
        "            print(f'[Epoch {epoch+1}/{num_epochs}] Loss: {loss} | Val: {acc_val:.3f} | Test: {acc_test:.3f}')\n",
        "\n",
        "    print(f'[Epoch {epoch+1}/{num_epochs}] Loss: {loss} | Val: {acc_val:.3f} | Test: {acc_test:.3f}')"
      ],
      "execution_count": null,
      "outputs": []
    },
    {
      "cell_type": "code",
      "metadata": {
        "id": "sD4PC9nc1D-9"
      },
      "source": [
        "class GraphSAGE_Mean(torch.nn.Module):\n",
        "    \"\"\"\n",
        "    GraphSAGE_Mean layer\n",
        "    \"\"\"\n",
        "\n",
        "    def __init__(self, in_features, out_features, normalize = True, bias = False):  \n",
        "        super().__init__()\n",
        "\n",
        "        self.in_features = in_features\n",
        "        self.out_features = out_features\n",
        "        self.normalize = normalize\n",
        "        self.bias = bias\n",
        "\n",
        "        # linear transformation that apply to embedding for central node\n",
        "        self.linear_l = torch.nn.Linear(self.in_features, self.out_features, bias = self.bias)\n",
        "        \n",
        "        #linear transformation that you apply to aggregated message from neighbors\n",
        "        self.linear_r = torch.nn.Linear(self.in_features, self.out_features, bias = self.bias)\n",
        "\n",
        "\n",
        "\n",
        "\n",
        "    def forward(self, fts, edge_index):\n",
        "\n",
        "        out = None\n",
        "        u, v = edge_index\n",
        "        aggregate = scatter(fts[v].to(device), u.to(device), dim = 0, reduce='mean')\n",
        "        \n",
        "        fts = self.linear_l(fts)\n",
        "        aggregate = self.linear_r(aggregate)\n",
        "\n",
        "        out = fts + aggregate\n",
        "\n",
        "\n",
        "        if self.normalize:\n",
        "            out = out/torch.norm(out, dim=1).unsqueeze(-1)\n",
        "\n",
        "        return out.log_softmax(dim=-1).to(device)\n",
        "\n"
      ],
      "execution_count": null,
      "outputs": []
    },
    {
      "cell_type": "code",
      "metadata": {
        "id": "csx9r4Hu1J9r"
      },
      "source": [
        "class GraphSAGE_MaxPooling(torch.nn.Module):\n",
        "    \"\"\"\n",
        "    GraphSAGE_MaxPooling layer\n",
        "    \"\"\"\n",
        "\n",
        "    def __init__(self, in_features, out_features, normalize = True, bias = False):  \n",
        "        super().__init__()\n",
        "\n",
        "        self.in_features = in_features\n",
        "        self.out_features = out_features\n",
        "        self.normalize = normalize\n",
        "        self.bias = bias\n",
        "\n",
        "        # linear transformation that apply after concatenation \n",
        "        self.linear_l = torch.nn.Linear(2*self.in_features, self.out_features, bias = self.bias)\n",
        "        \n",
        "        #linear transformation that you apply to neighbors features before max pooling\n",
        "        self.linear_r = torch.nn.Linear(self.in_features, self.in_features, bias = self.bias)\n",
        "\n",
        "        # non-linearity before pooling\n",
        "        self.relu = torch.nn.ReLU()\n",
        "\n",
        "\n",
        "    def forward(self, fts, edge_index):\n",
        "\n",
        "        \n",
        "        out = None\n",
        "        u, v = edge_index\n",
        "        \n",
        "        aggregate = scatter(self.relu(fts[v].to(device)), u.to(device), dim=0, reduce=\"max\")\n",
        "        \n",
        "\n",
        "        # aggregate = self.linear_r(fts.to(device))\n",
        "        # aggregate = self.relu(aggregate)\n",
        "        # aggregate = scatter(aggregate[v], u.to(device), dim = 0, reduce='max')\n",
        "\n",
        "\n",
        "        out = torch.cat([fts, aggregate], dim= 1)\n",
        "\n",
        "   \n",
        "        out = self.linear_l(out)\n",
        "\n",
        "        if self.normalize:\n",
        "            out = out/torch.norm(out, dim=1).unsqueeze(-1)\n",
        "\n",
        "        return out.to(device)\n",
        "\n"
      ],
      "execution_count": null,
      "outputs": []
    },
    {
      "cell_type": "code",
      "metadata": {
        "id": "Rbf-2VoX1J7J"
      },
      "source": [
        "\n",
        "class GraphSAGE(torch.nn.Module):\n",
        "    def __init__(self, nfeat, nhid, nclass, aggregator = 'Mean'):\n",
        "        super().__init__()\n",
        "        if(aggregator == 'Mean'):\n",
        "            self.gc1 = GraphSAGE_Mean(nfeat, nhid)\n",
        "            self.gc2 = GraphSAGE_Mean(nhid, nclass)\n",
        "\n",
        "        elif(aggregator == 'MaxPooling'):\n",
        "            self.gc1 = GraphSAGE_MaxPooling(nfeat, nhid)\n",
        "            self.gc2 = GraphSAGE_MaxPooling(nhid, nclass)\n",
        "\n",
        "\n",
        "\n",
        "        self.relu = torch.nn.ReLU()\n",
        "\n",
        "    def forward(self, fts, adj):\n",
        "        fts = self.relu(self.gc1(fts, adj))\n",
        "        fts = self.gc2(fts, adj)\n",
        "        return fts"
      ],
      "execution_count": null,
      "outputs": []
    },
    {
      "cell_type": "code",
      "metadata": {
        "id": "6hgbx4Of1J3r"
      },
      "source": [
        "Cora = torch_geometric.datasets.Planetoid(root='/', name='Cora')"
      ],
      "execution_count": null,
      "outputs": []
    },
    {
      "cell_type": "code",
      "metadata": {
        "id": "GwIzPwm81W-F"
      },
      "source": [
        "train(GraphSAGE(Cora.num_features, 1024, Cora.num_classes, aggregator = 'MaxPooling'), Cora[0], num_epochs=300, use_edge_index=True)"
      ],
      "execution_count": null,
      "outputs": []
    },
    {
      "cell_type": "code",
      "metadata": {
        "id": "G67u5Kzl1dar"
      },
      "source": [
        ""
      ],
      "execution_count": null,
      "outputs": []
    }
  ]
}